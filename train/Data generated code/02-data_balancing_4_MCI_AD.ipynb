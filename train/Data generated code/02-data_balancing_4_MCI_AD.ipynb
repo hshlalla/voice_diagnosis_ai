{
 "cells": [
  {
   "cell_type": "code",
   "execution_count": 1,
   "id": "1d16caf2",
   "metadata": {},
   "outputs": [],
   "source": [
    "#모든 환자가 다 같도록 만들고\n",
    "#데이터가 한 쪽이 더 많지 않도록 균형 맞추기\n",
    "#1. Normal vs Abnormal: 291개로 통일\n",
    "#Normal 291, Abnormal(MCI 146, AD 145) 구성\n",
    "#2. Normal vs AD: 208개로 통일\n",
    "#Normal 208, AD 208\n",
    "#3. Normal vs MCI: 228개로 통일\n",
    "#Normal 228, MCI 228\n",
    "#4. MCI vs AD: 208개로 통일\n",
    "#MCI 208, AD 208\n",
    "\n",
    "#현재 문항별 보유 데이터: data_distribution_중복제거_모든응답을한사람만.xls\n",
    "\n"
   ]
  },
  {
   "cell_type": "code",
   "execution_count": 2,
   "id": "381ed22a",
   "metadata": {},
   "outputs": [],
   "source": [
    "\n",
    "import os\n",
    "import pandas as pd\n",
    "import numpy as np\n",
    "import shutil #file copy\n",
    "\n",
    "filePathArr=[]\n",
    "durationArr=[]\n",
    "fileNameArr=[]\n",
    "\n"
   ]
  },
  {
   "cell_type": "code",
   "execution_count": 3,
   "id": "083848a7-bf92-4153-9289-e1ccd2dc8c2c",
   "metadata": {},
   "outputs": [],
   "source": [
    "base_path = './temp/'\n",
    "versionname = 'v5'"
   ]
  },
  {
   "cell_type": "code",
   "execution_count": null,
   "id": "22fdbcbf",
   "metadata": {},
   "outputs": [
    {
     "data": {
      "text/plain": [
       "\"\\nsave_path = ['D:\\\\DATA\\\\voice_cut\\\\voice_cut2\\\\dataset20220127\\\\MCI_AD\\\\']\\n\\nfor dir in save_path:\\n    for num in range(1,12):\\n        for disease in ('AD', 'MCI'):\\n            file_path = dir + str(num) + '/' + disease + '/'\\n            file_list = os.listdir(file_path)\\n            \\n            for k in range(0, len(file_list)):\\n                os.remove(file_path+file_list[k])\\n    \\n\""
      ]
     },
     "execution_count": 4,
     "metadata": {},
     "output_type": "execute_result"
    }
   ],
   "source": [
    "\n",
    "#clear save_path : 새로 저장할 때 다시 random으로 추출해서 파일을 저장하므로 기존 파일 내용 삭제\n",
    "\"\"\"\n",
    "save_path = ['D:\\\\DATA\\\\voice_cut\\\\voice_cut2\\\\dataset20250127\\\\MCI_AD\\\\']\n",
    "\n",
    "for dir in save_path:\n",
    "    for num in range(1,12):\n",
    "        for disease in ('AD', 'MCI'):\n",
    "            file_path = dir + str(num) + '/' + disease + '/'\n",
    "            file_list = os.listdir(file_path)\n",
    "            \n",
    "            for k in range(0, len(file_list)):\n",
    "                os.remove(file_path+file_list[k])\n",
    "    \n",
    "\"\"\""
   ]
  },
  {
   "cell_type": "code",
   "execution_count": 5,
   "id": "1bd21977-79b8-46a9-8cad-a8e96b3c9eb6",
   "metadata": {},
   "outputs": [
    {
     "name": "stdout",
     "output_type": "stream",
     "text": [
      "[ 78 210  60 181  44 200   2 222  65 176  50 101  55  90 169 145 180 218\n",
      " 225 143 158 220  95  20 103   7 165 170 215  43 128 141  29  68   5   1\n",
      " 184  27 217 201 231  24  87 198 202 136 219  23 111  71  84  80 229  69\n",
      "  70  79   8  11  28 208 131  63 192 135 179  39  81 230 209 144  52 207\n",
      "  86  49 204 173 205 162  13  72 122  37  32 130  12  93 127 139 124 216\n",
      "  56 224  91 121 187 166  31  38 160  53 214 157   4 140  62 211  89   6\n",
      "  82 117  74  58 159 148  47 183 190 189  83 132 112  14  73  48 150  61\n",
      " 114 115 153 129 213  85 142 102  75  99 123  88 108 107 156 167 137  41\n",
      " 134  21 116  36  66 133  34  22 105 100 171  15 106  33  40 194 186  77\n",
      " 146 178 110  10  54 109  67 212  76  51  19 126 221   0  25 164  92 125\n",
      " 223  97 152 104  42 199 118  98 177 155  94 138 203 191  57  18  30 172\n",
      " 151 206  46 193 163  96 195 174 147  17]\n",
      "208\n"
     ]
    }
   ],
   "source": [
    "#여기에서 파일을 복사해 옴. 균형을 맞추고, 모두 응답한 사람들만 남겨둔 ALL_pure 디렉토리에서 뽑기.\n",
    "#AD\n",
    "\n",
    "base_path = ['./temp/ALL_pure/']\n",
    "\n",
    "pick_no = 208\n",
    "disease='MCI'\n",
    "\n",
    "#MCI=146개 비복원 추출\n",
    "file_path = base_path[0]+ str(1) + '/' + disease + '/' \n",
    "file_list = os.listdir(file_path)\n",
    "#print(len(file_list))\n",
    "pick=np.random.choice(len(file_list), pick_no, replace=False)#뽑는 환자들 id는 랜덤으로 뽑되, 모든 문항에서 고정되어 있어야 함.\n",
    "print(pick)\n",
    "print(len(pick))\n",
    "#print(file_list)\n",
    "\n",
    "uid = []\n",
    "for item in file_list:\n",
    "    if len(item)<13:#nia\n",
    "        uid.append(item[:-6]) \n",
    "    else:\n",
    "        uid.append(item[:-8])\n",
    "        \n",
    "#print(uid)\n",
    "\n",
    "for num in range(1,12):\n",
    "    file_path = base_path[0]+ str(num) + '/' + disease + '/' \n",
    "    \n",
    "    uid_qnum = []\n",
    "    \n",
    "    for item in uid:\n",
    "        if len(item)<7:\n",
    "            uid_qnum.append(f'{item}.{num}.png')\n",
    "        else:\n",
    "            uid_qnum.append(f'{item}_{num-1}_R.png')\n",
    "            \n",
    "    #print(\"uid_qnum\",uid_qnum)\n",
    "\n",
    "    for dir in base_path:\n",
    "\n",
    "        save_path = './temp/'+versionname+'/MCI_AD/'+str(num)+'/MCI/'\n",
    "        file_path = base_path[0]+ str(num) + '/' + disease + '/' \n",
    "        file_list = os.listdir(file_path)\n",
    "\n",
    "        for k in pick:\n",
    "            shutil.copy(file_path+uid_qnum[k], save_path)\n",
    "\n",
    "         "
   ]
  },
  {
   "cell_type": "code",
   "execution_count": 6,
   "id": "9b022128-45e3-451e-a6e5-1220d516889f",
   "metadata": {},
   "outputs": [
    {
     "name": "stdout",
     "output_type": "stream",
     "text": [
      "[ 71 154  26 194 147  50   9 199 102  25 128 169 118 202  83 205  20 167\n",
      " 182 171  48 208  49  44 139 179  85 149  67  69 188  63  45 129 175 163\n",
      " 200 105 198 190  94 103 158 117 124 150 112 165 126 122  84 136  90   2\n",
      " 100  12 145 131 151 174 191 148 180  77 108 172  51  80 111   5  38 115\n",
      "  24 135  53   4  60  82 121  27  37  11   8 159  59  55  15  61 204 114\n",
      "  56 134 181  22  52  87  32 123  96 152   1 127  46 116   6  18  41  89\n",
      "  74 166 113 104  62  34  36 140  66 196  91 110 109  65   3 177  79 142\n",
      "  21  58 119  78  39  10  88  95  16  75  30  68 101  14  72 156  76 168\n",
      "  33 107  19 187  31  42 192 185  86 157  54 155 161  93  70 146  43  73\n",
      "  97 195 141  28 153  81  23  13 164  47  64 170 189 193 183 144 206 138\n",
      " 203 125  40 178 197  57  98  99 143 186  29 137  35 184 130 132   0  17\n",
      "  92 106 162 173 120   7 207 176 160 133]\n",
      "208\n"
     ]
    }
   ],
   "source": [
    "#여기에서 파일을 복사해 옴. 균형을 맞추고, 모두 응답한 사람들만 남겨둔 ALL_pure 디렉토리에서 뽑기.\n",
    "#AD\n",
    "\n",
    "base_path = ['./temp/ALL_pure/']\n",
    "\n",
    "pick_no = 208\n",
    "disease='AD'\n",
    "\n",
    "#MCI=146개 비복원 추출\n",
    "file_path = base_path[0]+ str(1) + '/' + disease + '/' \n",
    "file_list = os.listdir(file_path)\n",
    "#print(len(file_list))\n",
    "pick=np.random.choice(len(file_list), pick_no, replace=False)#뽑는 환자들 id는 랜덤으로 뽑되, 모든 문항에서 고정되어 있어야 함.\n",
    "print(pick)\n",
    "print(len(pick))\n",
    "#print(file_list)\n",
    "\n",
    "uid = []\n",
    "for item in file_list:\n",
    "    if len(item)<13:#nia\n",
    "        uid.append(item[:-6]) \n",
    "    else:\n",
    "        uid.append(item[:-8])\n",
    "        \n",
    "#print(uid)\n",
    "\n",
    "for num in range(1,12):\n",
    "    file_path = base_path[0]+ str(num) + '/' + disease + '/' \n",
    "    \n",
    "    uid_qnum = []\n",
    "    \n",
    "    for item in uid:\n",
    "        if len(item)<7:\n",
    "            uid_qnum.append(f'{item}.{num}.png')\n",
    "        else:\n",
    "            uid_qnum.append(f'{item}_{num-1}_R.png')\n",
    "            \n",
    "    #print(\"uid_qnum\",uid_qnum)\n",
    "\n",
    "    for dir in base_path:\n",
    "\n",
    "        save_path = './temp/'+versionname+'/MCI_AD/'+str(num)+'/AD/'\n",
    "        file_path = base_path[0]+ str(num) + '/' + disease + '/' \n",
    "        file_list = os.listdir(file_path)\n",
    "\n",
    "        for k in pick:\n",
    "            shutil.copy(file_path+uid_qnum[k], save_path)\n",
    "\n",
    "         "
   ]
  },
  {
   "cell_type": "code",
   "execution_count": null,
   "id": "e8cd4124-2f7b-430b-885f-aa5550f034f7",
   "metadata": {},
   "outputs": [],
   "source": []
  }
 ],
 "metadata": {
  "kernelspec": {
   "display_name": "Python 3 (ipykernel)",
   "language": "python",
   "name": "python3"
  },
  "language_info": {
   "codemirror_mode": {
    "name": "ipython",
    "version": 3
   },
   "file_extension": ".py",
   "mimetype": "text/x-python",
   "name": "python",
   "nbconvert_exporter": "python",
   "pygments_lexer": "ipython3",
   "version": "3.8.12"
  }
 },
 "nbformat": 4,
 "nbformat_minor": 5
}

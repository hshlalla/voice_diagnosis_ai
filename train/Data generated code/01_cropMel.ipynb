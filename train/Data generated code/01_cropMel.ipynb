{
 "cells": [
  {
   "cell_type": "code",
   "execution_count": 1,
   "id": "7fb278ec",
   "metadata": {
    "tags": []
   },
   "outputs": [],
   "source": [
    "#00_wav_to_mel에서 만들었던 가로 300, 세로 324 이미지를 300*300 이미지로 잘라서 저장함\n",
    "\n",
    "import os\n",
    "import librosa\n",
    "import librosa.display\n",
    "import matplotlib.pyplot as plt\n",
    "import numpy as np\n",
    "from tqdm import tqdm"
   ]
  },
  {
   "cell_type": "code",
   "execution_count": null,
   "id": "6295720b-ab01-4840-9267-5858479f484e",
   "metadata": {},
   "outputs": [],
   "source": [
    "#윗부분을 잘라낸 이미지를 저장할 경로를 만들어 줌.\n",
    "#필요시 여기에 경로 지정\n",
    "for qnum in range(1,12):\n",
    "    for disease in ['SCI','MCI','AD']:\n",
    "        os.makedirs('./temp/dataset250127_cropped/'+str(qnum)+'/'+disease+'/', exist_ok=True)\n",
    "        os.makedirs('./temp/dataset250127_cropped/partial_respondent/'+str(qnum)+'/'+disease+'/',exist_ok=True)"
   ]
  },
  {
   "cell_type": "code",
   "execution_count": 3,
   "id": "4324f535-2422-4bc1-b222-c249c926c05a",
   "metadata": {},
   "outputs": [],
   "source": [
    "#이미지 윗부분을 잘라내는 함수\n",
    "def crop_mel(open_file, save_file):\n",
    "    #이미지를 불러옴\n",
    "    img = plt.imread(open_file)\n",
    "    #이미지를 잘라 img_cropped 변수에 저장함\n",
    "    img_cropped = img[24:324, : , :]\n",
    "\n",
    "    #이미지를 300*300 크기로 저장하기 위해 dpi 100, 3*3인치로 설정 후 저장함\n",
    "    plt.gcf().set_size_inches(3, 3)\n",
    "    plt.axis('off'), plt.xticks([]), plt.yticks([])\n",
    "    plt.tight_layout()\n",
    "    plt.subplots_adjust(left=0, bottom=0, right=1, top=1, hspace=0, wspace=0)\n",
    "    \n",
    "    plt.imshow(img_cropped)\n",
    "    \n",
    "    plt.savefig(save_file + '.png', dpi=100)\n",
    "    \n",
    "    plt.close()"
   ]
  },
  {
   "cell_type": "code",
   "execution_count": null,
   "id": "a6463d0f-fa95-4fa1-8126-3ae4faf4fec5",
   "metadata": {},
   "outputs": [],
   "source": [
    "#crop_mel(\"/data/dataset20250127/SCI_MCI/1/MCI/da960ac4-583b-4ded-81c3-7aa8e566f832_0_R.jpg\",\"/data/1\")"
   ]
  },
  {
   "cell_type": "code",
   "execution_count": null,
   "id": "9526d383-e54c-4f5a-a243-c4f1b409b705",
   "metadata": {
    "tags": []
   },
   "outputs": [],
   "source": [
    "#필요시 여기에 경로 지정.\n",
    "#base_path: 자르기 전인 이미지가 저장된 경로\n",
    "#save_dir: 자른 후의 이미지를 저장할 경로\n",
    "base_path = './temp/dataset250127/'\n",
    "save_dir = './temp/dataset250127_cropped/'\n",
    "\n",
    "#모든 증상과 문항에 대해..\n",
    "for num in range(1,12):\n",
    "    for disease in ( 'SCI', 'MCI', 'AD'):\n",
    "\n",
    "        \n",
    "        file_path = base_path+ str(num) + '/' + disease + '/'\n",
    "        save_path = save_dir+ str(num)+ '/' + disease #+ '/'\n",
    "        file_list = os.listdir(file_path)\n",
    "        \n",
    "\n",
    "        print(file_path + \"  START\")\n",
    "        \n",
    "        #각 문항/증상별 png 파일을 불러와 윗부분을 자름\n",
    "        for file_name in tqdm(file_list,leave=True):\n",
    "            extension = os.path.splitext(file_name)[1]\n",
    "            if extension == '.png':\n",
    "                open_file = file_path + '/' + file_name\n",
    "                save_file = save_path + '/' + file_name[:-4]#확장자를 뺀 파일 이름\n",
    "                if not os.path.exists(save_file + '.png'):\n",
    "                    crop_mel(open_file, save_file)"
   ]
  },
  {
   "cell_type": "code",
   "execution_count": null,
   "id": "ee7ed037-c41a-4474-99b1-8727853059be",
   "metadata": {
    "tags": []
   },
   "outputs": [],
   "source": [
    "#부분 응답자에 대해서도 동일하게 적용함\n",
    "base_path = './temp/dataset250127/partial_respondent/'\n",
    "save_dir = './temp/dataset250127_cropped/partial_respondent/'\n",
    "for num in range(1,12):\n",
    "    for disease in ( 'SCI', 'MCI', 'AD'):\n",
    "\n",
    "    \n",
    "        file_path = base_path+ str(num) + '/' + disease + '/'\n",
    "        save_path = save_dir+ str(num)+ '/' + disease #+ '/'\n",
    "        file_list = os.listdir(file_path)\n",
    "        \n",
    "\n",
    "        print(file_path + \"  START\")\n",
    "        \n",
    "        for file_name in tqdm(file_list,leave=True):\n",
    "            extension = os.path.splitext(file_name)[1]\n",
    "            if extension == '.png':\n",
    "                open_file = file_path + '/' + file_name\n",
    "                save_file = save_path + '/' + file_name[:-4]#확장자를 뺀 파일 이름\n",
    "                if not os.path.exists(save_file + '.png'):\n",
    "                    crop_mel(open_file, save_file)"
   ]
  },
  {
   "cell_type": "code",
   "execution_count": 7,
   "id": "0f503d44",
   "metadata": {
    "tags": []
   },
   "outputs": [
    {
     "name": "stdout",
     "output_type": "stream",
     "text": [
      "done\n"
     ]
    }
   ],
   "source": [
    "print('done')"
   ]
  }
 ],
 "metadata": {
  "kernelspec": {
   "display_name": "Python 3 (ipykernel)",
   "language": "python",
   "name": "python3"
  },
  "language_info": {
   "codemirror_mode": {
    "name": "ipython",
    "version": 3
   },
   "file_extension": ".py",
   "mimetype": "text/x-python",
   "name": "python",
   "nbconvert_exporter": "python",
   "pygments_lexer": "ipython3",
   "version": "3.8.12"
  }
 },
 "nbformat": 4,
 "nbformat_minor": 5
}

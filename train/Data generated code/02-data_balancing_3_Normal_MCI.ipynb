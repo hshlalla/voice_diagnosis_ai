{
 "cells": [
  {
   "cell_type": "code",
   "execution_count": 1,
   "id": "1d16caf2",
   "metadata": {},
   "outputs": [],
   "source": [
    "#모든 환자가 다 같도록 만들고\n",
    "#데이터가 한 쪽이 더 많지 않도록 균형 맞추기\n",
    "#1. Normal vs Abnormal: 291개로 통일\n",
    "#Normal 291, Abnormal(MCI 146, AD 145) 구성\n",
    "#2. Normal vs AD: 208개로 통일\n",
    "#Normal 208, AD 208\n",
    "#3. Normal vs MCI: 232개로 통일\n",
    "#Normal 232, MCI 232\n",
    "#4. MCI vs AD: 208개로 통일\n",
    "#MCI 208, AD 208\n",
    "\n",
    "#현재 문항별 보유 데이터: data_distribution_중복제거_모든응답을한사람만.xls\n",
    "\n"
   ]
  },
  {
   "cell_type": "code",
   "execution_count": 2,
   "id": "381ed22a",
   "metadata": {},
   "outputs": [],
   "source": [
    "\n",
    "import os\n",
    "import pandas as pd\n",
    "import numpy as np\n",
    "import shutil #file copy\n",
    "\n",
    "filePathArr=[]\n",
    "durationArr=[]\n",
    "fileNameArr=[]\n",
    "\n"
   ]
  },
  {
   "cell_type": "code",
   "execution_count": null,
   "id": "22fdbcbf",
   "metadata": {},
   "outputs": [
    {
     "data": {
      "text/plain": [
       "\"\\nsave_path = ['D:\\\\DATA\\\\voice_cut\\\\voice_cut2\\\\dataset20220127\\\\normal_MCI\\\\']\\n\\nfor dir in save_path:\\n    for num in range(1,12):\\n        for disease in ('normal', 'MCI'):\\n            file_path = dir + str(num) + '/' + disease + '/'\\n            file_list = os.listdir(file_path)\\n            \\n            for k in range(0, len(file_list)):\\n                os.remove(file_path+file_list[k])\\n    \\n\""
      ]
     },
     "execution_count": 3,
     "metadata": {},
     "output_type": "execute_result"
    }
   ],
   "source": [
    "\n",
    "#clear save_path : 새로 저장할 때 다시 random으로 추출해서 파일을 저장하므로 기존 파일 내용 삭제\n",
    "\"\"\"\n",
    "save_path = ['D:\\\\DATA\\\\voice_cut\\\\voice_cut2\\\\dataset20250127\\\\normal_MCI\\\\']\n",
    "\n",
    "for dir in save_path:\n",
    "    for num in range(1,12):\n",
    "        for disease in ('normal', 'MCI'):\n",
    "            file_path = dir + str(num) + '/' + disease + '/'\n",
    "            file_list = os.listdir(file_path)\n",
    "            \n",
    "            for k in range(0, len(file_list)):\n",
    "                os.remove(file_path+file_list[k])\n",
    "    \n",
    "\"\"\""
   ]
  },
  {
   "cell_type": "code",
   "execution_count": 4,
   "id": "95bd68ad-a962-4867-9218-2708e6e2c544",
   "metadata": {},
   "outputs": [],
   "source": [
    "base_path = './temp/'\n",
    "versionname = 'v5'"
   ]
  },
  {
   "cell_type": "code",
   "execution_count": 5,
   "id": "daef43c9-a823-4c19-8158-fe41506f8c81",
   "metadata": {},
   "outputs": [
    {
     "name": "stdout",
     "output_type": "stream",
     "text": [
      "[192  50  87  43  36 161 117  86 145  55 129 200  48 134 147  80  74   4\n",
      "  12  81  42 196 187  28  73 230  61 202 229 126  16 121  51 215 231 168\n",
      "  34  76  37 125  41 208  31  19  95 170 185 205  21 217  89  97 210  78\n",
      "  62 152 222 160 220  32 131 142  27 113 179 107 173 188  91  30  22 154\n",
      " 144 212  39 164 150 197  35  79  13  92 118  64 140  66 130 189 156  53\n",
      " 124 119 132   7  56 110 228  49 191 226 203 138 106 127 159 186  69 223\n",
      " 207  46  45  57 198  23  88 219 206  85  54  60 123 199  17  25  47 166\n",
      "  18 108   6 162   0  90  14 151  11  75 105 180 115 225  96 175 190 176\n",
      "   1 181  84  44   5   9 172  59  52 194  38  58 153 136  33 116 214  63\n",
      " 139 193 211 137 216 114  20 204   8 104 169 158 224 111  72 227 101 157\n",
      "   2 167 122 178 177  65 165 155  29  71 183  98 135   3 128  94 171  26\n",
      " 182 133  10 112  70 218 221 201  83 148 163  24 174 120  15 109 149 103\n",
      " 146  68  93 141  99 100 209 102  67  77 213  40 195 184 143  82]\n",
      "232\n"
     ]
    }
   ],
   "source": [
    "#여기에서 파일을 복사해 옴. 균형을 맞추고, 모두 응답한 사람들만 남겨둔 ALL_pure 디렉토리에서 뽑기.\n",
    "#AD\n",
    "\n",
    "base_path = ['./temp/ALL_pure/']\n",
    "\n",
    "pick_no = 232\n",
    "disease='MCI'\n",
    "\n",
    "#MCI=146개 비복원 추출\n",
    "file_path = base_path[0]+ str(1) + '/' + disease + '/' \n",
    "file_list = os.listdir(file_path)\n",
    "#print(len(file_list))\n",
    "pick=np.random.choice(len(file_list), pick_no, replace=False)#뽑는 환자들 id는 랜덤으로 뽑되, 모든 문항에서 고정되어 있어야 함.\n",
    "print(pick)\n",
    "print(len(pick))\n",
    "#print(file_list)\n",
    "\n",
    "uid = []\n",
    "for item in file_list:\n",
    "    if len(item)<13:#nia\n",
    "        uid.append(item[:-6]) \n",
    "    else:\n",
    "        uid.append(item[:-8])\n",
    "        \n",
    "#print(uid)\n",
    "\n",
    "for num in range(1,12):\n",
    "    file_path = base_path[0]+ str(num) + '/' + disease + '/' \n",
    "    \n",
    "    uid_qnum = []\n",
    "    \n",
    "    for item in uid:\n",
    "        if len(item)<7:\n",
    "            uid_qnum.append(f'{item}.{num}.png')\n",
    "        else:\n",
    "            uid_qnum.append(f'{item}_{num-1}_R.png')\n",
    "            \n",
    "    #print(\"uid_qnum\",uid_qnum)\n",
    "\n",
    "    for dir in base_path:\n",
    "\n",
    "        save_path = './temp/'+versionname+'/SCI_MCI/'+str(num)+'/MCI/'\n",
    "        file_path = base_path[0]+ str(num) + '/' + disease + '/' \n",
    "        file_list = os.listdir(file_path)\n",
    "\n",
    "        for k in pick:\n",
    "            shutil.copy(file_path+uid_qnum[k], save_path)\n",
    "\n",
    "         "
   ]
  },
  {
   "cell_type": "code",
   "execution_count": 6,
   "id": "5406ee4b-66d1-4810-9b20-9a7f8089e232",
   "metadata": {},
   "outputs": [
    {
     "name": "stdout",
     "output_type": "stream",
     "text": [
      "[256  95   3   4  55  93 111 191 102 174 194 227 212  60 207 114  77  24\n",
      " 158 211 119 208 146  66 250   1  26 232  62 151 200  98  88 138  97 247\n",
      "  40  54 237 183  44  85   6  29 116 255 100 240 176 213 122  19 198 218\n",
      " 197 236 225 149 209  94 185 239 121  32  28 246 192  99  11  71  70  80\n",
      " 129 103 131 230 150 233 159  18  91 221 144 203  87 112 251 241  21 101\n",
      " 231 115  46 133 253 148  63 202 186 252 216  53 128 248   5 181 210 188\n",
      " 105 196  65 157 228  41 141 223 214  96  75  34  12 215 177 132  50  25\n",
      "  30 168 190   0 155 120 184 162  81 226 201 199 187 153 175  90  52  23\n",
      "  39 107 243  64 118  89  48   2 234 254 154 235   9 244 245 161  36 160\n",
      " 193   7 217  43  59 124  17 167 113 249 206 242 166 220 222   8 143 173\n",
      "  79 135  31 189 145  33  73 180 171  74 172  84 142  67 257  22 182  27\n",
      " 127 229  47  58 108  57  82  76  20  72  14  42 205  68 123  69  56  83\n",
      " 219 152 169 164 110  13 106 156 137 104  78 165 204 134 109 147]\n",
      "232\n"
     ]
    }
   ],
   "source": [
    "#여기에서 파일을 복사해 옴. 균형을 맞추고, 모두 응답한 사람들만 남겨둔 ALL_pure 디렉토리에서 뽑기.\n",
    "#AD\n",
    "\n",
    "base_path = ['./temp/ALL_pure/']\n",
    "\n",
    "pick_no = 232\n",
    "disease='SCI'\n",
    "\n",
    "#MCI=146개 비복원 추출\n",
    "file_path = base_path[0]+ str(1) + '/' + disease + '/' \n",
    "file_list = os.listdir(file_path)\n",
    "#print(len(file_list))\n",
    "pick=np.random.choice(len(file_list), pick_no, replace=False)#뽑는 환자들 id는 랜덤으로 뽑되, 모든 문항에서 고정되어 있어야 함.\n",
    "print(pick)\n",
    "print(len(pick))\n",
    "#print(file_list)\n",
    "\n",
    "uid = []\n",
    "for item in file_list:\n",
    "    if len(item)<13:#nia\n",
    "        uid.append(item[:-6]) \n",
    "    else:\n",
    "        uid.append(item[:-8])\n",
    "        \n",
    "#print(uid)\n",
    "\n",
    "for num in range(1,12):\n",
    "    file_path = base_path[0]+ str(num) + '/' + disease + '/' \n",
    "    \n",
    "    uid_qnum = []\n",
    "    \n",
    "    for item in uid:\n",
    "        if len(item)<7:\n",
    "            uid_qnum.append(f'{item}.{num}.png')\n",
    "        else:\n",
    "            uid_qnum.append(f'{item}_{num-1}_R.png')\n",
    "            \n",
    "    #print(\"uid_qnum\",uid_qnum)\n",
    "\n",
    "    for dir in base_path:\n",
    "\n",
    "        save_path = './temp/'+versionname+'/SCI_MCI/'+str(num)+'/SCI/'\n",
    "        file_path = base_path[0]+ str(num) + '/' + disease + '/' \n",
    "        file_list = os.listdir(file_path)\n",
    "\n",
    "        for k in pick:\n",
    "            shutil.copy(file_path+uid_qnum[k], save_path)\n",
    "\n",
    "         "
   ]
  },
  {
   "cell_type": "code",
   "execution_count": null,
   "id": "e8cd4124-2f7b-430b-885f-aa5550f034f7",
   "metadata": {},
   "outputs": [],
   "source": []
  }
 ],
 "metadata": {
  "kernelspec": {
   "display_name": "Python 3 (ipykernel)",
   "language": "python",
   "name": "python3"
  },
  "language_info": {
   "codemirror_mode": {
    "name": "ipython",
    "version": 3
   },
   "file_extension": ".py",
   "mimetype": "text/x-python",
   "name": "python",
   "nbconvert_exporter": "python",
   "pygments_lexer": "ipython3",
   "version": "3.8.12"
  }
 },
 "nbformat": 4,
 "nbformat_minor": 5
}

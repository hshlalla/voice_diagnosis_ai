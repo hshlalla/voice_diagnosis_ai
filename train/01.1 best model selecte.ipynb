{
 "cells": [
  {
   "cell_type": "markdown",
   "metadata": {},
   "source": [
    "# 모델선택\n",
    "bestmodel만 사용해서 진행할경우 정확도가 높은 모델이 선택되어 selected_model에 저장됩니다."
   ]
  },
  {
   "cell_type": "code",
   "execution_count": 7,
   "metadata": {},
   "outputs": [
    {
     "name": "stdout",
     "output_type": "stream",
     "text": [
      "['model_normal_abnormal_q5_fold2_acc64.7.h5', 'model_normal_abnormal_q10_fold1_acc50.0.h5', 'model_normal_abnormal_q7_fold1_acc63.8.h5', 'model_normal_abnormal_q4_fold1_acc50.0.h5', 'model_normal_abnormal_q11_fold3_acc51.7.h5', 'model_normal_abnormal_q9_fold2_acc55.2.h5', 'model_normal_abnormal_q3_fold2_acc50.0.h5', 'model_normal_abnormal_q2_fold3_acc50.0.h5', 'model_normal_abnormal_q8_fold2_acc50.0.h5', 'model_normal_abnormal_q1_fold1_acc50.0.h5', 'model_normal_abnormal_q6_fold2_acc50.0.h5']\n",
      "Selected files for normal_abnormal copied to ./selected_bestmodel/normal_abnormal\n"
     ]
    }
   ],
   "source": [
    "import os\n",
    "import re\n",
    "import shutil\n",
    "\n",
    "# 클래스 조합 설정\n",
    "class_combinations = [\n",
    "    (\"normal\", \"abnormal\"),\n",
    "    (\"SCI\", \"AD\"),\n",
    "    (\"SCI\", \"MCI\"),\n",
    "    (\"MCI\", \"AD\")\n",
    "]\n",
    "\n",
    "# 기본 디렉토리 설정\n",
    "base_input_dir = \"./models\"\n",
    "base_output_dir = \"./selected_bestmodel\"\n",
    "\n",
    "# 각 클래스 조합에 대해 처리\n",
    "for class1, class2 in class_combinations:\n",
    "    input_dir = f\"{base_input_dir}/{class1}_{class2}\"\n",
    "    output_dir = f\"{base_output_dir}/{class1}_{class2}\"\n",
    "    os.makedirs(output_dir, exist_ok=True)\n",
    "\n",
    "    # 정규 표현식 패턴: 문제 이름, 폴드, 정확도를 추출\n",
    "    # 각 문항중에 정확도가 높은 모델들만 selected_model로 이동됩니다. \n",
    "    pattern = rf\"model_{class1}_{class2}_q(\\d+)_fold(\\d+)_acc([\\d.]+)\\.h5\"\n",
    "\n",
    "    # 파일에서 정보를 추출하는 함수 (lambda 사용)\n",
    "    extract_info = lambda file: re.match(pattern, file).groups() if re.match(pattern, file) else None\n",
    "\n",
    "    # 최고 정확도 모델을 추적하기 위한 딕셔너리\n",
    "    best_files = {}\n",
    "\n",
    "    # 입력 디렉토리에서 파일 처리\n",
    "    for file in os.listdir(input_dir):\n",
    "        info = extract_info(file)\n",
    "        if info:\n",
    "            q, fold, acc = int(info[0]), int(info[1]), float(info[2])\n",
    "            if q not in best_files or float(best_files[q][1]) < acc:\n",
    "                best_files[q] = (file, acc)\n",
    "\n",
    "    # 선택된 파일 목록\n",
    "    selected_files = [info[0] for info in best_files.values()]\n",
    "    print(selected_files)\n",
    "\n",
    "    # 파일 복사\n",
    "    for file in selected_files:\n",
    "        src_path = os.path.join(input_dir, file)\n",
    "        dst_path = os.path.join(output_dir, file)\n",
    "        shutil.move(src_path, dst_path)\n",
    "\n",
    "    print(f\"Selected files for {class1}_{class2} copied to {output_dir}\")\n",
    "    break\n"
   ]
  }
 ],
 "metadata": {
  "kernelspec": {
   "display_name": "python3.8.12",
   "language": "python",
   "name": "python3"
  },
  "language_info": {
   "codemirror_mode": {
    "name": "ipython",
    "version": 3
   },
   "file_extension": ".py",
   "mimetype": "text/x-python",
   "name": "python",
   "nbconvert_exporter": "python",
   "pygments_lexer": "ipython3",
   "version": "3.8.12"
  }
 },
 "nbformat": 4,
 "nbformat_minor": 2
}

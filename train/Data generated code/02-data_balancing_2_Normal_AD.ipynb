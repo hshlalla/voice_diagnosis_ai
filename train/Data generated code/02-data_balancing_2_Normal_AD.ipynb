{
 "cells": [
  {
   "cell_type": "code",
   "execution_count": 1,
   "id": "1d16caf2",
   "metadata": {},
   "outputs": [],
   "source": [
    "#모든 환자가 다 같도록 만들고\n",
    "#데이터가 한 쪽이 더 많지 않도록 균형 맞추기\n",
    "#1. Normal vs Abnormal: 258개로 통일\n",
    "#Normal 291, Abnormal(MCI 129, AD 129) 구성\n",
    "#2. Normal vs AD: 208개로 통일\n",
    "#Normal 208, AD 208\n",
    "#3. Normal vs MCI: 228개로 통일\n",
    "#Normal 228, MCI 228\n",
    "#4. MCI vs AD: 208개로 통일\n",
    "#MCI 208, AD 208\n",
    "\n",
    "#현재 문항별 보유 데이터: data_distribution_중복제거_모든응답을한사람만.xls\n",
    "\n"
   ]
  },
  {
   "cell_type": "code",
   "execution_count": 2,
   "id": "381ed22a",
   "metadata": {},
   "outputs": [],
   "source": [
    "\n",
    "import os\n",
    "import pandas as pd\n",
    "import numpy as np\n",
    "import shutil #file copy\n",
    "\n",
    "filePathArr=[]\n",
    "durationArr=[]\n",
    "fileNameArr=[]\n",
    "\n"
   ]
  },
  {
   "cell_type": "code",
   "execution_count": null,
   "id": "22fdbcbf",
   "metadata": {},
   "outputs": [
    {
     "data": {
      "text/plain": [
       "\"\\nsave_path = ['D:\\\\DATA\\\\voice_cut\\\\voice_cut2\\\\dataset20220127\\\\normal_AD\\\\']\\n\\nfor dir in save_path:\\n    for num in range(1,12):\\n        for disease in ('normal', 'AD'):\\n            file_path = dir + str(num) + '/' + disease + '/'\\n            file_list = os.listdir(file_path)\\n            \\n            for k in range(0, len(file_list)):\\n                os.remove(file_path+file_list[k])\\n    \\n\""
      ]
     },
     "execution_count": 3,
     "metadata": {},
     "output_type": "execute_result"
    }
   ],
   "source": [
    "\n",
    "#clear save_path : 새로 저장할 때 다시 random으로 추출해서 파일을 저장하므로 기존 파일 내용 삭제\n",
    "\"\"\"\n",
    "save_path = ['D:\\\\DATA\\\\voice_cut\\\\voice_cut2\\\\dataset20250127\\\\normal_AD\\\\']\n",
    "\n",
    "for dir in save_path:\n",
    "    for num in range(1,12):\n",
    "        for disease in ('normal', 'AD'):\n",
    "            file_path = dir + str(num) + '/' + disease + '/'\n",
    "            file_list = os.listdir(file_path)\n",
    "            \n",
    "            for k in range(0, len(file_list)):\n",
    "                os.remove(file_path+file_list[k])\n",
    "    \n",
    "\"\"\""
   ]
  },
  {
   "cell_type": "code",
   "execution_count": 4,
   "id": "83a12739-a94b-435b-8d95-2a86e4a9c308",
   "metadata": {},
   "outputs": [],
   "source": [
    "base_path = './temp/'\n",
    "versionname = 'v5'"
   ]
  },
  {
   "cell_type": "code",
   "execution_count": 5,
   "id": "d7af206b",
   "metadata": {
    "scrolled": true,
    "tags": []
   },
   "outputs": [
    {
     "name": "stdout",
     "output_type": "stream",
     "text": [
      "[180  42 205  93 175 204 136 187 137 154 144 125   3  30 185 120   4  16\n",
      "  73  19 122 191 174 100  25 173  83 199 183 172   7 182  53  13 108  45\n",
      " 150 119  23  87  43 186 117  17 104 177  96 123 206 181 114 118  36  10\n",
      "  35  58 115 171  55 127  79 116 130 201  67  15 178  21   6 124  63  18\n",
      " 109   2 126 208 156  81  85 102  47 184  92  64 159  97 135  24  39 190\n",
      " 133   1 197 192 148 134  56 106  49 160  27  80 195 202 141 139  94 145\n",
      "  59  70  48  38  28  20 170 193  74 198 121  31 131  52  37 149 176 196\n",
      "  60  34  95  66 179 105 161 128  40  41  50  11  69  68 140 166 163 129\n",
      "  99  88 158  77  29  32  86 194  71 101  78 110 113  57  72  65  91 169\n",
      "  14  33  22 143   5  89 189 200 142   0 167 111  51   9  82   8 107  90\n",
      " 112  44  12  75 146  46 103 155  26  54 164  84 168 138  61 152  76 188\n",
      " 162 207 151 147  98 157  62 132 203 153]\n",
      "208\n"
     ]
    }
   ],
   "source": [
    "#여기에서 파일을 복사해 옴. 균형을 맞추고, 모두 응답한 사람들만 남겨둔 ALL_pure 디렉토리에서 뽑기.\n",
    "#AD\n",
    "\n",
    "base_path = ['./temp/ALL_pure/']\n",
    "\n",
    "pick_no = 208\n",
    "disease='AD'\n",
    "\n",
    "#MCI=146개 비복원 추출\n",
    "file_path = base_path[0]+ str(1) + '/' + disease + '/' \n",
    "file_list = os.listdir(file_path)\n",
    "#print(len(file_list))\n",
    "pick=np.random.choice(len(file_list), pick_no, replace=False)#뽑는 환자들 id는 랜덤으로 뽑되, 모든 문항에서 고정되어 있어야 함.\n",
    "print(pick)\n",
    "print(len(pick))\n",
    "#print(file_list)\n",
    "\n",
    "uid = []\n",
    "for item in file_list:\n",
    "    if len(item)<13:#nia\n",
    "        uid.append(item[:-6]) \n",
    "    else:\n",
    "        uid.append(item[:-8])\n",
    "        \n",
    "#print(uid)\n",
    "\n",
    "for num in range(1,12):\n",
    "    file_path = base_path[0]+ str(num) + '/' + disease + '/' \n",
    "    \n",
    "    uid_qnum = []\n",
    "    \n",
    "    for item in uid:\n",
    "        if len(item)<7:\n",
    "            uid_qnum.append(f'{item}.{num}.png')\n",
    "        else:\n",
    "            uid_qnum.append(f'{item}_{num-1}_R.png')\n",
    "            \n",
    "    #print(\"uid_qnum\",uid_qnum)\n",
    "\n",
    "    for dir in base_path:\n",
    "\n",
    "        save_path = './temp/'+versionname+'/SCI_AD/'+str(num)+'/AD/'\n",
    "        file_path = base_path[0]+ str(num) + '/' + disease + '/' \n",
    "        file_list = os.listdir(file_path)\n",
    "\n",
    "        for k in pick:\n",
    "            shutil.copy(file_path+uid_qnum[k], save_path)\n",
    "\n",
    "         "
   ]
  },
  {
   "cell_type": "code",
   "execution_count": 6,
   "id": "c44e3451-a816-415e-aac0-010603e4fcc2",
   "metadata": {},
   "outputs": [
    {
     "name": "stdout",
     "output_type": "stream",
     "text": [
      "[ 77  31 250  86 191 103 196 124 158  81 113 102  26 155 137  36 231 118\n",
      " 255 127 115  28  14 141  42  79 238 143  70 107   8  17 253 249 242 228\n",
      " 198 177 165  76 236 180 104  89 241 227  75  21  49  65  93  38  82  99\n",
      "  59 251  67 178 182  39 173  83 188  97 145 146 152 208 234 123 232 116\n",
      " 200 142 235   5  57 211 126  16   3  34   7  91 224 109  51 199  56 166\n",
      "  29  15 120  45 161  68 218  95 101 245 112  27 237 220 233 222 157 132\n",
      " 219 110  46 257 114 156 160  78 192  61 136  90 162  41 125 189 229 140\n",
      "  54  63 134 201 131  19 144 185  73   9  25  53  13 214 247  69 239  11\n",
      " 216 175  66  43  50 252  88 105  98 133 171 213 244 248  20  52 100  55\n",
      " 129 190   6  87 194  80 186 187  18  24   1 167 226 147 215 154  71  12\n",
      " 151 254  40  92 204 256 163 205 243 130   2 121 210 193 223 221 181 212\n",
      " 153 150 179 169  58  23  94 207  10  35]\n",
      "208\n"
     ]
    }
   ],
   "source": [
    "#여기에서 파일을 복사해 옴. 균형을 맞추고, 모두 응답한 사람들만 남겨둔 ALL_pure 디렉토리에서 뽑기.\n",
    "#AD\n",
    "\n",
    "base_path = ['./temp/ALL_pure/']\n",
    "\n",
    "pick_no = 208\n",
    "disease='SCI'\n",
    "\n",
    "#MCI=146개 비복원 추출\n",
    "file_path = base_path[0]+ str(1) + '/' + disease + '/' \n",
    "file_list = os.listdir(file_path)\n",
    "#print(len(file_list))\n",
    "pick=np.random.choice(len(file_list), pick_no, replace=False)#뽑는 환자들 id는 랜덤으로 뽑되, 모든 문항에서 고정되어 있어야 함.\n",
    "print(pick)\n",
    "print(len(pick))\n",
    "#print(file_list)\n",
    "\n",
    "uid = []\n",
    "for item in file_list:\n",
    "    if len(item)<13:#nia\n",
    "        uid.append(item[:-6]) \n",
    "    else:\n",
    "        uid.append(item[:-8])\n",
    "        \n",
    "#print(uid)\n",
    "\n",
    "for num in range(1,12):\n",
    "    file_path = base_path[0]+ str(num) + '/' + disease + '/' \n",
    "    \n",
    "    uid_qnum = []\n",
    "    \n",
    "    for item in uid:\n",
    "        if len(item)<7:\n",
    "            uid_qnum.append(f'{item}.{num}.png')\n",
    "        else:\n",
    "            uid_qnum.append(f'{item}_{num-1}_R.png')\n",
    "            \n",
    "    #print(\"uid_qnum\",uid_qnum)\n",
    "\n",
    "    for dir in base_path:\n",
    "\n",
    "        save_path = './temp/'+versionname+'/SCI_AD/'+str(num)+'/SCI/'\n",
    "        file_path = base_path[0]+ str(num) + '/' + disease + '/' \n",
    "        file_list = os.listdir(file_path)\n",
    "\n",
    "        for k in pick:\n",
    "            shutil.copy(file_path+uid_qnum[k], save_path)\n",
    "\n",
    "         "
   ]
  },
  {
   "cell_type": "code",
   "execution_count": null,
   "id": "e8cd4124-2f7b-430b-885f-aa5550f034f7",
   "metadata": {},
   "outputs": [],
   "source": []
  }
 ],
 "metadata": {
  "kernelspec": {
   "display_name": "Python 3 (ipykernel)",
   "language": "python",
   "name": "python3"
  },
  "language_info": {
   "codemirror_mode": {
    "name": "ipython",
    "version": 3
   },
   "file_extension": ".py",
   "mimetype": "text/x-python",
   "name": "python",
   "nbconvert_exporter": "python",
   "pygments_lexer": "ipython3",
   "version": "3.8.12"
  }
 },
 "nbformat": 4,
 "nbformat_minor": 5
}

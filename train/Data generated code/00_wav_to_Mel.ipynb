{
 "cells": [
  {
   "cell_type": "code",
   "execution_count": 1,
   "id": "b2d8d433-76d9-4669-8cda-e55d8f750222",
   "metadata": {},
   "outputs": [],
   "source": [
    "import os #디렉토리 생성시 사용\n",
    "import librosa #wav 파일 불러오기\n",
    "import librosa.display #mel-spectrogram 표현, color map 지정 등\n",
    "import matplotlib.pyplot as plt #plot\n",
    "from matplotlib.backends.backend_agg import FigureCanvasAgg as FigureCanvas #이미지의 numpy 변환에 사용\n",
    "import numpy as np #numpy array 생성\n",
    "from tqdm import tqdm"
   ]
  },
  {
   "cell_type": "code",
   "execution_count": 2,
   "id": "4b498c25-f9c8-433d-84e8-5282a3e8da34",
   "metadata": {},
   "outputs": [],
   "source": [
    "#저장하는 경로에 문항, 질환별 디렉토리 생성\n",
    "for qnum in range(1,12):\n",
    "    for disease in ['SCI','MCI','AD']:\n",
    "        os.makedirs('./temp/dataset230927/'+str(qnum)+\"/\"+disease, exist_ok=True)\n",
    "        os.makedirs('./temp/dataset230927/partial_respondent/'+str(qnum)+\"/\"+disease, exist_ok=True)"
   ]
  },
  {
   "cell_type": "code",
   "execution_count": 3,
   "id": "fd9f29ae-da57-4a86-b729-70e992641fcf",
   "metadata": {},
   "outputs": [
    {
     "data": {
      "text/plain": [
       "['4', '1', '8', '.DS_Store', '10', '3', '11', '7', '2', '9', '6', '5']"
      ]
     },
     "execution_count": 3,
     "metadata": {},
     "output_type": "execute_result"
    }
   ],
   "source": [
    "os.listdir('../../../../../../data/dataset/음성/치매원본음성/original/ALL/partial_respondant/')"
   ]
  },
  {
   "cell_type": "code",
   "execution_count": 4,
   "id": "48ab2c95-b607-4ea6-a434-548af0b97da4",
   "metadata": {
    "tags": []
   },
   "outputs": [],
   "source": [
    "import matplotlib.image as mpimg\n",
    "\n",
    "#np -> pickle (Dataframe 변환 없이)\n",
    "#np -> tensorflow dataset\n",
    "\n",
    "#각 문항별 응답 종료 시간 지정(1~11)\n",
    "end_time = [9, 10, 12, 18, 60, 60, 60, 60, 60, 60, 60]\n",
    "\n",
    "#mel-spectrogram으로 변환 후, np array를 npy로 저장하는 함수\n",
    "def Mel_Spectrogram(librosa_y_array, save_file, sr, qnum):\n",
    "    #y = librosa_y_array\n",
    "    \n",
    "    y, sr = librosa.load(librosa_y_array,sr=sr)\n",
    "    \n",
    "    duration = end_time[qnum-1]*sr\n",
    "    \n",
    "    #print(\"before\",y.shape)\n",
    "    #print(\"img duration\",duration)\n",
    "    \n",
    "    if(len(y) <duration):\n",
    "        wav = np.concatenate((y, np.zeros(abs(len(y)-duration))), axis=0)\n",
    "    elif duration ==len(y):\n",
    "        wav = y\n",
    "    else:\n",
    "        wav = y[:duration]\n",
    "        \n",
    "    y = wav\n",
    "    \n",
    "    #print(\"after\",y.shape)\n",
    "    \n",
    "    \n",
    "    S = librosa.feature.melspectrogram(y=y, sr=sr, win_length=3000, n_fft=3000)#win_length, n_fft = 3000으로 통일.\n",
    "    plt.gcf().set_size_inches(3, 3.24)\n",
    "    librosa.display.specshow(librosa.power_to_db(S, ref=np.max))\n",
    "    \n",
    "    plt.axis('off'), plt.xticks([]), plt.yticks([])\n",
    "    plt.tight_layout()\n",
    "    plt.subplots_adjust(left=0, bottom=0, right=1, top=1, hspace=0, wspace=0)\n",
    "    plt.savefig(save_file + '.png', dpi=100)\n",
    "    plt.close()\n",
    "    \n",
    "\n",
    "    \n",
    "    \n"
   ]
  },
  {
   "cell_type": "code",
   "execution_count": 5,
   "id": "925d3b0a-a469-4c87-a2db-f5ed61709fb8",
   "metadata": {},
   "outputs": [
    {
     "name": "stdout",
     "output_type": "stream",
     "text": [
      "../../../../../../data/dataset/음성/치매원본음성/original/ALL/1/SCI/  START\n"
     ]
    },
    {
     "name": "stderr",
     "output_type": "stream",
     "text": [
      "100%|███████████████████████████████████████████████████████████████████████████████| 258/258 [00:00<00:00, 1954.30it/s]\n"
     ]
    },
    {
     "name": "stdout",
     "output_type": "stream",
     "text": [
      "../../../../../../data/dataset/음성/치매원본음성/original/ALL/1/MCI/  START\n"
     ]
    },
    {
     "name": "stderr",
     "output_type": "stream",
     "text": [
      "100%|███████████████████████████████████████████████████████████████████████████████| 232/232 [00:00<00:00, 1083.32it/s]\n"
     ]
    },
    {
     "name": "stdout",
     "output_type": "stream",
     "text": [
      "../../../../../../data/dataset/음성/치매원본음성/original/ALL/1/AD/  START\n"
     ]
    },
    {
     "name": "stderr",
     "output_type": "stream",
     "text": [
      "100%|███████████████████████████████████████████████████████████████████████████████| 209/209 [00:00<00:00, 4159.85it/s]\n"
     ]
    },
    {
     "name": "stdout",
     "output_type": "stream",
     "text": [
      "../../../../../../data/dataset/음성/치매원본음성/original/ALL/2/SCI/  START\n"
     ]
    },
    {
     "name": "stderr",
     "output_type": "stream",
     "text": [
      "100%|███████████████████████████████████████████████████████████████████████████████| 258/258 [00:00<00:00, 2069.75it/s]\n"
     ]
    },
    {
     "name": "stdout",
     "output_type": "stream",
     "text": [
      "../../../../../../data/dataset/음성/치매원본음성/original/ALL/2/MCI/  START\n"
     ]
    },
    {
     "name": "stderr",
     "output_type": "stream",
     "text": [
      "100%|███████████████████████████████████████████████████████████████████████████████| 232/232 [00:00<00:00, 9468.32it/s]\n"
     ]
    },
    {
     "name": "stdout",
     "output_type": "stream",
     "text": [
      "../../../../../../data/dataset/음성/치매원본음성/original/ALL/2/AD/  START\n"
     ]
    },
    {
     "name": "stderr",
     "output_type": "stream",
     "text": [
      "100%|██████████████████████████████████████████████████████████████████████████████| 209/209 [00:00<00:00, 22264.23it/s]\n"
     ]
    },
    {
     "name": "stdout",
     "output_type": "stream",
     "text": [
      "../../../../../../data/dataset/음성/치매원본음성/original/ALL/3/SCI/  START\n"
     ]
    },
    {
     "name": "stderr",
     "output_type": "stream",
     "text": [
      "100%|███████████████████████████████████████████████████████████████████████████████| 258/258 [00:00<00:00, 1793.04it/s]\n"
     ]
    },
    {
     "name": "stdout",
     "output_type": "stream",
     "text": [
      "../../../../../../data/dataset/음성/치매원본음성/original/ALL/3/MCI/  START\n"
     ]
    },
    {
     "name": "stderr",
     "output_type": "stream",
     "text": [
      "100%|███████████████████████████████████████████████████████████████████████████████| 232/232 [00:00<00:00, 3920.59it/s]\n"
     ]
    },
    {
     "name": "stdout",
     "output_type": "stream",
     "text": [
      "../../../../../../data/dataset/음성/치매원본음성/original/ALL/3/AD/  START\n"
     ]
    },
    {
     "name": "stderr",
     "output_type": "stream",
     "text": [
      "100%|███████████████████████████████████████████████████████████████████████████████| 209/209 [00:00<00:00, 2313.90it/s]\n"
     ]
    },
    {
     "name": "stdout",
     "output_type": "stream",
     "text": [
      "../../../../../../data/dataset/음성/치매원본음성/original/ALL/4/SCI/  START\n"
     ]
    },
    {
     "name": "stderr",
     "output_type": "stream",
     "text": [
      "100%|███████████████████████████████████████████████████████████████████████████████| 258/258 [00:00<00:00, 1474.91it/s]\n"
     ]
    },
    {
     "name": "stdout",
     "output_type": "stream",
     "text": [
      "../../../../../../data/dataset/음성/치매원본음성/original/ALL/4/MCI/  START\n"
     ]
    },
    {
     "name": "stderr",
     "output_type": "stream",
     "text": [
      "100%|███████████████████████████████████████████████████████████████████████████████| 232/232 [00:00<00:00, 4814.24it/s]\n"
     ]
    },
    {
     "name": "stdout",
     "output_type": "stream",
     "text": [
      "../../../../../../data/dataset/음성/치매원본음성/original/ALL/4/AD/  START\n"
     ]
    },
    {
     "name": "stderr",
     "output_type": "stream",
     "text": [
      "100%|███████████████████████████████████████████████████████████████████████████████| 209/209 [00:00<00:00, 2720.46it/s]\n"
     ]
    },
    {
     "name": "stdout",
     "output_type": "stream",
     "text": [
      "../../../../../../data/dataset/음성/치매원본음성/original/ALL/5/SCI/  START\n"
     ]
    },
    {
     "name": "stderr",
     "output_type": "stream",
     "text": [
      "100%|███████████████████████████████████████████████████████████████████████████████| 258/258 [00:00<00:00, 4676.21it/s]\n"
     ]
    },
    {
     "name": "stdout",
     "output_type": "stream",
     "text": [
      "../../../../../../data/dataset/음성/치매원본음성/original/ALL/5/MCI/  START\n"
     ]
    },
    {
     "name": "stderr",
     "output_type": "stream",
     "text": [
      "100%|███████████████████████████████████████████████████████████████████████████████| 232/232 [00:00<00:00, 1124.56it/s]\n"
     ]
    },
    {
     "name": "stdout",
     "output_type": "stream",
     "text": [
      "../../../../../../data/dataset/음성/치매원본음성/original/ALL/5/AD/  START\n"
     ]
    },
    {
     "name": "stderr",
     "output_type": "stream",
     "text": [
      "100%|███████████████████████████████████████████████████████████████████████████████| 209/209 [00:00<00:00, 2776.44it/s]\n"
     ]
    },
    {
     "name": "stdout",
     "output_type": "stream",
     "text": [
      "../../../../../../data/dataset/음성/치매원본음성/original/ALL/6/SCI/  START\n"
     ]
    },
    {
     "name": "stderr",
     "output_type": "stream",
     "text": [
      "100%|███████████████████████████████████████████████████████████████████████████████| 258/258 [00:00<00:00, 1872.65it/s]\n"
     ]
    },
    {
     "name": "stdout",
     "output_type": "stream",
     "text": [
      "../../../../../../data/dataset/음성/치매원본음성/original/ALL/6/MCI/  START\n"
     ]
    },
    {
     "name": "stderr",
     "output_type": "stream",
     "text": [
      "100%|███████████████████████████████████████████████████████████████████████████████| 232/232 [00:00<00:00, 1791.87it/s]\n"
     ]
    },
    {
     "name": "stdout",
     "output_type": "stream",
     "text": [
      "../../../../../../data/dataset/음성/치매원본음성/original/ALL/6/AD/  START\n"
     ]
    },
    {
     "name": "stderr",
     "output_type": "stream",
     "text": [
      "100%|███████████████████████████████████████████████████████████████████████████████| 209/209 [00:00<00:00, 3427.00it/s]\n"
     ]
    },
    {
     "name": "stdout",
     "output_type": "stream",
     "text": [
      "../../../../../../data/dataset/음성/치매원본음성/original/ALL/7/SCI/  START\n"
     ]
    },
    {
     "name": "stderr",
     "output_type": "stream",
     "text": [
      "100%|███████████████████████████████████████████████████████████████████████████████| 258/258 [00:00<00:00, 1804.92it/s]\n"
     ]
    },
    {
     "name": "stdout",
     "output_type": "stream",
     "text": [
      "../../../../../../data/dataset/음성/치매원본음성/original/ALL/7/MCI/  START\n"
     ]
    },
    {
     "name": "stderr",
     "output_type": "stream",
     "text": [
      "100%|███████████████████████████████████████████████████████████████████████████████| 232/232 [00:00<00:00, 5258.01it/s]\n"
     ]
    },
    {
     "name": "stdout",
     "output_type": "stream",
     "text": [
      "../../../../../../data/dataset/음성/치매원본음성/original/ALL/7/AD/  START\n"
     ]
    },
    {
     "name": "stderr",
     "output_type": "stream",
     "text": [
      "100%|███████████████████████████████████████████████████████████████████████████████| 209/209 [00:00<00:00, 1411.21it/s]\n"
     ]
    },
    {
     "name": "stdout",
     "output_type": "stream",
     "text": [
      "../../../../../../data/dataset/음성/치매원본음성/original/ALL/8/SCI/  START\n"
     ]
    },
    {
     "name": "stderr",
     "output_type": "stream",
     "text": [
      "100%|███████████████████████████████████████████████████████████████████████████████| 258/258 [00:00<00:00, 2131.20it/s]\n"
     ]
    },
    {
     "name": "stdout",
     "output_type": "stream",
     "text": [
      "../../../../../../data/dataset/음성/치매원본음성/original/ALL/8/MCI/  START\n"
     ]
    },
    {
     "name": "stderr",
     "output_type": "stream",
     "text": [
      "100%|███████████████████████████████████████████████████████████████████████████████| 232/232 [00:00<00:00, 3382.47it/s]\n"
     ]
    },
    {
     "name": "stdout",
     "output_type": "stream",
     "text": [
      "../../../../../../data/dataset/음성/치매원본음성/original/ALL/8/AD/  START\n"
     ]
    },
    {
     "name": "stderr",
     "output_type": "stream",
     "text": [
      "100%|██████████████████████████████████████████████████████████████████████████████| 209/209 [00:00<00:00, 88680.78it/s]\n"
     ]
    },
    {
     "name": "stdout",
     "output_type": "stream",
     "text": [
      "../../../../../../data/dataset/음성/치매원본음성/original/ALL/9/SCI/  START\n"
     ]
    },
    {
     "name": "stderr",
     "output_type": "stream",
     "text": [
      "100%|███████████████████████████████████████████████████████████████████████████████| 258/258 [00:00<00:00, 3423.90it/s]\n"
     ]
    },
    {
     "name": "stdout",
     "output_type": "stream",
     "text": [
      "../../../../../../data/dataset/음성/치매원본음성/original/ALL/9/MCI/  START\n"
     ]
    },
    {
     "name": "stderr",
     "output_type": "stream",
     "text": [
      "100%|███████████████████████████████████████████████████████████████████████████████| 232/232 [00:00<00:00, 1908.60it/s]\n"
     ]
    },
    {
     "name": "stdout",
     "output_type": "stream",
     "text": [
      "../../../../../../data/dataset/음성/치매원본음성/original/ALL/9/AD/  START\n"
     ]
    },
    {
     "name": "stderr",
     "output_type": "stream",
     "text": [
      "100%|████████████████████████████████████████████████████████████████████████████████| 209/209 [00:00<00:00, 902.97it/s]\n"
     ]
    },
    {
     "name": "stdout",
     "output_type": "stream",
     "text": [
      "../../../../../../data/dataset/음성/치매원본음성/original/ALL/10/SCI/  START\n"
     ]
    },
    {
     "name": "stderr",
     "output_type": "stream",
     "text": [
      "100%|███████████████████████████████████████████████████████████████████████████████| 258/258 [00:00<00:00, 1770.72it/s]\n"
     ]
    },
    {
     "name": "stdout",
     "output_type": "stream",
     "text": [
      "../../../../../../data/dataset/음성/치매원본음성/original/ALL/10/MCI/  START\n"
     ]
    },
    {
     "name": "stderr",
     "output_type": "stream",
     "text": [
      "100%|████████████████████████████████████████████████████████████████████████████████| 232/232 [00:00<00:00, 864.86it/s]\n"
     ]
    },
    {
     "name": "stdout",
     "output_type": "stream",
     "text": [
      "../../../../../../data/dataset/음성/치매원본음성/original/ALL/10/AD/  START\n"
     ]
    },
    {
     "name": "stderr",
     "output_type": "stream",
     "text": [
      "100%|███████████████████████████████████████████████████████████████████████████████| 209/209 [00:00<00:00, 1042.74it/s]\n"
     ]
    },
    {
     "name": "stdout",
     "output_type": "stream",
     "text": [
      "../../../../../../data/dataset/음성/치매원본음성/original/ALL/11/SCI/  START\n"
     ]
    },
    {
     "name": "stderr",
     "output_type": "stream",
     "text": [
      "100%|█████████████████████████████████████████████████████████████████████████████████| 258/258 [02:25<00:00,  1.77it/s]\n"
     ]
    },
    {
     "name": "stdout",
     "output_type": "stream",
     "text": [
      "../../../../../../data/dataset/음성/치매원본음성/original/ALL/11/MCI/  START\n"
     ]
    },
    {
     "name": "stderr",
     "output_type": "stream",
     "text": [
      "100%|█████████████████████████████████████████████████████████████████████████████████| 232/232 [03:17<00:00,  1.17it/s]\n"
     ]
    },
    {
     "name": "stdout",
     "output_type": "stream",
     "text": [
      "../../../../../../data/dataset/음성/치매원본음성/original/ALL/11/AD/  START\n"
     ]
    },
    {
     "name": "stderr",
     "output_type": "stream",
     "text": [
      "100%|█████████████████████████████████████████████████████████████████████████████████| 209/209 [03:15<00:00,  1.07it/s]\n"
     ]
    }
   ],
   "source": [
    "#음원이 있는 base_path와 npy를 저자할 save_dir을 지정함\n",
    "base_path = '../../../../../../data/dataset/음성/치매원본음성/original/ALL/'\n",
    "save_dir = './temp/dataset230927/'\n",
    "for num in range(1,12):\n",
    "    for disease in ( 'SCI', 'MCI', 'AD'):\n",
    "        file_path = base_path+ str(num) + '/' + disease + '/'\n",
    "        save_path = save_dir+ str(num)+ '/' + disease + '/'\n",
    "        file_list = os.listdir(file_path)\n",
    "        \n",
    "        print(file_path + \"  START\")\n",
    "\n",
    "        sr = 48000 #sampling rate 지정\n",
    "\n",
    "        for file_name in tqdm(file_list,leave=True):\n",
    "            extension = os.path.splitext(file_name)[1]\n",
    "            if extension == '.wav':\n",
    "                wav_file = file_path + '/' + file_name\n",
    "                save_file = save_path + '/' + file_name[:-4]#파일 이름에서 확장자 제거\n",
    "                if not os.path.exists(save_file + '.png'):\n",
    "                    #print(file_name,\"PROCESSING ..\")\n",
    "                    Mel_Spectrogram(wav_file, save_file, sr, num)\n",
    "\n"
   ]
  },
  {
   "cell_type": "code",
   "execution_count": null,
   "id": "9c9d43a1-b770-4672-bf7f-edcaeb4c7b10",
   "metadata": {},
   "outputs": [
    {
     "name": "stdout",
     "output_type": "stream",
     "text": [
      "../../../../../../data/dataset/음성/치매원본음성/original/ALL/partial_respondant/1/SCI/  START\n"
     ]
    },
    {
     "name": "stderr",
     "output_type": "stream",
     "text": [
      "100%|████████████████████████████████████████████████████████████████████████████████████| 7/7 [00:00<00:00, 351.42it/s]\n"
     ]
    },
    {
     "name": "stdout",
     "output_type": "stream",
     "text": [
      "../../../../../../data/dataset/음성/치매원본음성/original/ALL/partial_respondant/1/MCI/  START\n"
     ]
    },
    {
     "name": "stderr",
     "output_type": "stream",
     "text": [
      "100%|███████████████████████████████████████████████████████████████████████████████████| 5/5 [00:00<00:00, 7775.87it/s]\n"
     ]
    },
    {
     "name": "stdout",
     "output_type": "stream",
     "text": [
      "../../../../../../data/dataset/음성/치매원본음성/original/ALL/partial_respondant/1/AD/  START\n"
     ]
    },
    {
     "name": "stderr",
     "output_type": "stream",
     "text": [
      "100%|████████████████████████████████████████████████████████████████████████████████| 21/21 [00:00<00:00, 22824.67it/s]\n"
     ]
    },
    {
     "name": "stdout",
     "output_type": "stream",
     "text": [
      "../../../../../../data/dataset/음성/치매원본음성/original/ALL/partial_respondant/2/SCI/  START\n"
     ]
    },
    {
     "name": "stderr",
     "output_type": "stream",
     "text": [
      "100%|████████████████████████████████████████████████████████████████████████████████████| 8/8 [00:00<00:00, 384.87it/s]\n"
     ]
    },
    {
     "name": "stdout",
     "output_type": "stream",
     "text": [
      "../../../../../../data/dataset/음성/치매원본음성/original/ALL/partial_respondant/2/MCI/  START\n"
     ]
    },
    {
     "name": "stderr",
     "output_type": "stream",
     "text": [
      "100%|███████████████████████████████████████████████████████████████████████████████████| 4/4 [00:00<00:00, 4261.42it/s]\n"
     ]
    },
    {
     "name": "stdout",
     "output_type": "stream",
     "text": [
      "../../../../../../data/dataset/음성/치매원본음성/original/ALL/partial_respondant/2/AD/  START\n"
     ]
    },
    {
     "name": "stderr",
     "output_type": "stream",
     "text": [
      "100%|████████████████████████████████████████████████████████████████████████████████| 17/17 [00:00<00:00, 22289.21it/s]\n"
     ]
    },
    {
     "name": "stdout",
     "output_type": "stream",
     "text": [
      "../../../../../../data/dataset/음성/치매원본음성/original/ALL/partial_respondant/3/SCI/  START\n"
     ]
    },
    {
     "name": "stderr",
     "output_type": "stream",
     "text": [
      "100%|████████████████████████████████████████████████████████████████████████████████████| 8/8 [00:00<00:00, 318.30it/s]\n"
     ]
    },
    {
     "name": "stdout",
     "output_type": "stream",
     "text": [
      "../../../../../../data/dataset/음성/치매원본음성/original/ALL/partial_respondant/3/MCI/  START\n"
     ]
    },
    {
     "name": "stderr",
     "output_type": "stream",
     "text": [
      "100%|███████████████████████████████████████████████████████████████████████████████████| 5/5 [00:00<00:00, 6151.81it/s]\n"
     ]
    },
    {
     "name": "stdout",
     "output_type": "stream",
     "text": [
      "../../../../../../data/dataset/음성/치매원본음성/original/ALL/partial_respondant/3/AD/  START\n"
     ]
    },
    {
     "name": "stderr",
     "output_type": "stream",
     "text": [
      "100%|█████████████████████████████████████████████████████████████████████████████████| 20/20 [00:00<00:00, 4965.73it/s]\n"
     ]
    },
    {
     "name": "stdout",
     "output_type": "stream",
     "text": [
      "../../../../../../data/dataset/음성/치매원본음성/original/ALL/partial_respondant/4/SCI/  START\n"
     ]
    },
    {
     "name": "stderr",
     "output_type": "stream",
     "text": [
      "100%|████████████████████████████████████████████████████████████████████████████████████| 7/7 [00:00<00:00, 870.96it/s]\n"
     ]
    },
    {
     "name": "stdout",
     "output_type": "stream",
     "text": [
      "../../../../../../data/dataset/음성/치매원본음성/original/ALL/partial_respondant/4/MCI/  START\n"
     ]
    },
    {
     "name": "stderr",
     "output_type": "stream",
     "text": [
      "100%|███████████████████████████████████████████████████████████████████████████████████| 5/5 [00:00<00:00, 6293.97it/s]\n"
     ]
    },
    {
     "name": "stdout",
     "output_type": "stream",
     "text": [
      "../../../../../../data/dataset/음성/치매원본음성/original/ALL/partial_respondant/4/AD/  START\n"
     ]
    },
    {
     "name": "stderr",
     "output_type": "stream",
     "text": [
      "100%|████████████████████████████████████████████████████████████████████████████████| 22/22 [00:00<00:00, 22891.26it/s]\n"
     ]
    },
    {
     "name": "stdout",
     "output_type": "stream",
     "text": [
      "../../../../../../data/dataset/음성/치매원본음성/original/ALL/partial_respondant/5/SCI/  START\n"
     ]
    },
    {
     "name": "stderr",
     "output_type": "stream",
     "text": [
      "100%|███████████████████████████████████████████████████████████████████████████████████| 6/6 [00:00<00:00, 9214.88it/s]\n"
     ]
    },
    {
     "name": "stdout",
     "output_type": "stream",
     "text": [
      "../../../../../../data/dataset/음성/치매원본음성/original/ALL/partial_respondant/5/MCI/  START\n"
     ]
    },
    {
     "name": "stderr",
     "output_type": "stream",
     "text": [
      "100%|████████████████████████████████████████████████████████████████████████████████████| 5/5 [00:00<00:00, 237.34it/s]\n"
     ]
    },
    {
     "name": "stdout",
     "output_type": "stream",
     "text": [
      "../../../../../../data/dataset/음성/치매원본음성/original/ALL/partial_respondant/5/AD/  START\n"
     ]
    },
    {
     "name": "stderr",
     "output_type": "stream",
     "text": [
      "100%|████████████████████████████████████████████████████████████████████████████████| 20/20 [00:00<00:00, 11795.01it/s]\n"
     ]
    },
    {
     "name": "stdout",
     "output_type": "stream",
     "text": [
      "../../../../../../data/dataset/음성/치매원본음성/original/ALL/partial_respondant/6/SCI/  START\n"
     ]
    },
    {
     "name": "stderr",
     "output_type": "stream",
     "text": [
      "100%|████████████████████████████████████████████████████████████████████████████████████| 6/6 [00:00<00:00, 242.35it/s]\n"
     ]
    },
    {
     "name": "stdout",
     "output_type": "stream",
     "text": [
      "../../../../../../data/dataset/음성/치매원본음성/original/ALL/partial_respondant/6/MCI/  START\n"
     ]
    },
    {
     "name": "stderr",
     "output_type": "stream",
     "text": [
      "100%|███████████████████████████████████████████████████████████████████████████████████| 3/3 [00:00<00:00, 3200.94it/s]\n"
     ]
    },
    {
     "name": "stdout",
     "output_type": "stream",
     "text": [
      "../../../../../../data/dataset/음성/치매원본음성/original/ALL/partial_respondant/6/AD/  START\n"
     ]
    },
    {
     "name": "stderr",
     "output_type": "stream",
     "text": [
      "100%|█████████████████████████████████████████████████████████████████████████████████| 11/11 [00:00<00:00, 1430.22it/s]\n"
     ]
    },
    {
     "name": "stdout",
     "output_type": "stream",
     "text": [
      "../../../../../../data/dataset/음성/치매원본음성/original/ALL/partial_respondant/7/SCI/  START\n"
     ]
    },
    {
     "name": "stderr",
     "output_type": "stream",
     "text": [
      "100%|████████████████████████████████████████████████████████████████████████████████████| 7/7 [00:00<00:00, 372.93it/s]\n"
     ]
    },
    {
     "name": "stdout",
     "output_type": "stream",
     "text": [
      "../../../../../../data/dataset/음성/치매원본음성/original/ALL/partial_respondant/7/MCI/  START\n"
     ]
    },
    {
     "name": "stderr",
     "output_type": "stream",
     "text": [
      "100%|████████████████████████████████████████████████████████████████████████████████████| 5/5 [00:00<00:00, 760.83it/s]\n"
     ]
    },
    {
     "name": "stdout",
     "output_type": "stream",
     "text": [
      "../../../../../../data/dataset/음성/치매원본음성/original/ALL/partial_respondant/7/AD/  START\n"
     ]
    },
    {
     "name": "stderr",
     "output_type": "stream",
     "text": [
      "100%|█████████████████████████████████████████████████████████████████████████████████| 21/21 [00:00<00:00, 3222.49it/s]\n"
     ]
    },
    {
     "name": "stdout",
     "output_type": "stream",
     "text": [
      "../../../../../../data/dataset/음성/치매원본음성/original/ALL/partial_respondant/8/SCI/  START\n"
     ]
    },
    {
     "name": "stderr",
     "output_type": "stream",
     "text": [
      "100%|████████████████████████████████████████████████████████████████████████████████████| 7/7 [00:00<00:00, 401.72it/s]\n"
     ]
    },
    {
     "name": "stdout",
     "output_type": "stream",
     "text": [
      "../../../../../../data/dataset/음성/치매원본음성/original/ALL/partial_respondant/8/MCI/  START\n"
     ]
    },
    {
     "name": "stderr",
     "output_type": "stream",
     "text": [
      "100%|████████████████████████████████████████████████████████████████████████████████████| 5/5 [00:00<00:00, 878.54it/s]\n"
     ]
    },
    {
     "name": "stdout",
     "output_type": "stream",
     "text": [
      "../../../../../../data/dataset/음성/치매원본음성/original/ALL/partial_respondant/8/AD/  START\n"
     ]
    },
    {
     "name": "stderr",
     "output_type": "stream",
     "text": [
      "100%|█████████████████████████████████████████████████████████████████████████████████| 17/17 [00:00<00:00, 2245.13it/s]\n"
     ]
    },
    {
     "name": "stdout",
     "output_type": "stream",
     "text": [
      "../../../../../../data/dataset/음성/치매원본음성/original/ALL/partial_respondant/9/SCI/  START\n"
     ]
    },
    {
     "name": "stderr",
     "output_type": "stream",
     "text": [
      "100%|██████████████████████████████████████████████████████████████████████████████████| 8/8 [00:00<00:00, 11936.83it/s]\n"
     ]
    },
    {
     "name": "stdout",
     "output_type": "stream",
     "text": [
      "../../../../../../data/dataset/음성/치매원본음성/original/ALL/partial_respondant/9/MCI/  START\n"
     ]
    },
    {
     "name": "stderr",
     "output_type": "stream",
     "text": [
      "100%|███████████████████████████████████████████████████████████████████████████████████| 4/4 [00:00<00:00, 4345.30it/s]\n"
     ]
    },
    {
     "name": "stdout",
     "output_type": "stream",
     "text": [
      "../../../../../../data/dataset/음성/치매원본음성/original/ALL/partial_respondant/9/AD/  START\n"
     ]
    },
    {
     "name": "stderr",
     "output_type": "stream",
     "text": [
      "100%|████████████████████████████████████████████████████████████████████████████████| 20/20 [00:00<00:00, 22239.15it/s]\n"
     ]
    },
    {
     "name": "stdout",
     "output_type": "stream",
     "text": [
      "../../../../../../data/dataset/음성/치매원본음성/original/ALL/partial_respondant/10/SCI/  START\n"
     ]
    },
    {
     "name": "stderr",
     "output_type": "stream",
     "text": [
      "100%|████████████████████████████████████████████████████████████████████████████████████| 5/5 [00:00<00:00, 208.07it/s]\n"
     ]
    },
    {
     "name": "stdout",
     "output_type": "stream",
     "text": [
      "../../../../../../data/dataset/음성/치매원본음성/original/ALL/partial_respondant/10/MCI/  START\n"
     ]
    },
    {
     "name": "stderr",
     "output_type": "stream",
     "text": [
      "100%|████████████████████████████████████████████████████████████████████████████████████| 5/5 [00:00<00:00, 469.32it/s]\n"
     ]
    },
    {
     "name": "stdout",
     "output_type": "stream",
     "text": [
      "../../../../../../data/dataset/음성/치매원본음성/original/ALL/partial_respondant/10/AD/  START\n"
     ]
    },
    {
     "name": "stderr",
     "output_type": "stream",
     "text": [
      "100%|█████████████████████████████████████████████████████████████████████████████████| 20/20 [00:00<00:00, 2925.51it/s]\n"
     ]
    },
    {
     "name": "stdout",
     "output_type": "stream",
     "text": [
      "../../../../../../data/dataset/음성/치매원본음성/original/ALL/partial_respondant/11/SCI/  START\n"
     ]
    },
    {
     "name": "stderr",
     "output_type": "stream",
     "text": [
      "100%|███████████████████████████████████████████████████████████████████████████████████| 7/7 [00:00<00:00, 1052.98it/s]\n"
     ]
    },
    {
     "name": "stdout",
     "output_type": "stream",
     "text": [
      "../../../../../../data/dataset/음성/치매원본음성/original/ALL/partial_respondant/11/MCI/  START\n"
     ]
    },
    {
     "name": "stderr",
     "output_type": "stream",
     "text": [
      "100%|████████████████████████████████████████████████████████████████████████████████████| 4/4 [00:00<00:00, 586.25it/s]\n"
     ]
    },
    {
     "name": "stdout",
     "output_type": "stream",
     "text": [
      "../../../../../../data/dataset/음성/치매원본음성/original/ALL/partial_respondant/11/AD/  START\n"
     ]
    },
    {
     "name": "stderr",
     "output_type": "stream",
     "text": [
      "100%|█████████████████████████████████████████████████████████████████████████████████| 19/19 [00:00<00:00, 2699.77it/s]\n"
     ]
    }
   ],
   "source": [
    "\n",
    "#partial respondent                    \n",
    "base_path = '../../../../../../data/dataset/음성/치매원본음성/original/ALL/partial_respondant/'\n",
    "save_dir = './temp/dataset250127/partial_respondent/'\n",
    "for num in range(1,12):\n",
    "    for disease in ( 'SCI', 'MCI', 'AD'):\n",
    "    \n",
    "        file_path = base_path+ str(num) + '/' + disease + '/'\n",
    "        save_path = save_dir+ str(num)+ '/' + disease + '/'\n",
    "        file_list = os.listdir(file_path)\n",
    "        \n",
    "        print(file_path + \"  START\")\n",
    "\n",
    "        sr = 48000 #sampling rate 지정\n",
    "\n",
    "        for file_name in tqdm(file_list,leave=True):\n",
    "            extension = os.path.splitext(file_name)[1]\n",
    "            if extension == '.wav':\n",
    "                wav_file = file_path + '/' + file_name\n",
    "                save_file = save_path + '/' + file_name[:-4]#파일 이름에서 확장자 제거\n",
    "                if not os.path.exists(save_file + '.png'):\n",
    "                    Mel_Spectrogram(wav_file, save_file, sr, num)"
   ]
  },
  {
   "cell_type": "code",
   "execution_count": 7,
   "id": "8da5e0f2-cce0-4b99-b445-00d47d5d47e1",
   "metadata": {
    "tags": []
   },
   "outputs": [
    {
     "name": "stdout",
     "output_type": "stream",
     "text": [
      "wav to mel:: finished\n"
     ]
    }
   ],
   "source": [
    "print('wav to mel:: finished')"
   ]
  }
 ],
 "metadata": {
  "kernelspec": {
   "display_name": "Python 3 (ipykernel)",
   "language": "python",
   "name": "python3"
  },
  "language_info": {
   "codemirror_mode": {
    "name": "ipython",
    "version": 3
   },
   "file_extension": ".py",
   "mimetype": "text/x-python",
   "name": "python",
   "nbconvert_exporter": "python",
   "pygments_lexer": "ipython3",
   "version": "3.8.12"
  }
 },
 "nbformat": 4,
 "nbformat_minor": 5
}
